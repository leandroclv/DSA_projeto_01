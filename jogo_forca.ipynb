{
 "cells": [
  {
   "cell_type": "code",
   "execution_count": 1,
   "metadata": {},
   "outputs": [],
   "source": [
    "#import\n",
    "import random\n",
    "from os import system, name"
   ]
  },
  {
   "cell_type": "code",
   "execution_count": 4,
   "metadata": {},
   "outputs": [
    {
     "name": "stdout",
     "output_type": "stream",
     "text": [
      "\n",
      "Bem-vindo(a) ao jogo da forca!\n",
      "Adivinhe a palavra abaixo:\n",
      "\n",
      "_ _ _ _ _ _\n",
      "\n",
      "Chances restantes: 6\n",
      "Letras erradas: \n"
     ]
    },
    {
     "name": "stdout",
     "output_type": "stream",
     "text": [
      "\u001b[H\u001b[2J_ a _ a _ a\n",
      "\n",
      "Chances restantes: 6\n",
      "Letras erradas: \n",
      "_ a _ a _ a\n",
      "\n",
      "Chances restantes: 5\n",
      "Letras erradas: c\n",
      "_ a _ a _ a\n",
      "\n",
      "Chances restantes: 4\n",
      "Letras erradas: c t\n",
      "_ a _ a _ a\n",
      "\n",
      "Chances restantes: 3\n",
      "Letras erradas: c t d\n",
      "_ a n a n a\n",
      "\n",
      "Chances restantes: 3\n",
      "Letras erradas: c t d\n",
      "\n",
      "Você venceu, a palavra era: banana\n",
      "\n",
      "Parabéns. Você está aprendendo programação em Python com a DSA. :)\n",
      "\n"
     ]
    }
   ],
   "source": [
    "#Função para limpar a tela a cada execução\n",
    "def limpar_tela():\n",
    "    if name == 'nt':\n",
    "        _= system('cls')\n",
    "    else:\n",
    "        _= system('clear')\n",
    "\n",
    "#Função\n",
    "def game():\n",
    "    limpar_tela()\n",
    "    print('\\nBem-vindo(a) ao jogo da forca!')\n",
    "    print('Adivinhe a palavra abaixo:\\n')\n",
    "    \n",
    "    #lista de palavras para o jogo\n",
    "    palavras = ['banana', 'abacate', 'uva', 'morango', 'laranja']\n",
    "    \n",
    "    #escolhe randomicamente uma palavra\n",
    "    palavra = random.choice(palavras)\n",
    "    \n",
    "    #list comprehension\n",
    "    letras_descoberta = ['_' for letra in palavra]\n",
    "    \n",
    "    #número de chances\n",
    "    chances = 6\n",
    "    \n",
    "    #lista para as letras erradas\n",
    "    letras_erradas = []\n",
    "    \n",
    "    # loop enquanto número de chances for maior do que zero\n",
    "    while chances > 0:\n",
    "        #print\n",
    "        print(' '.join(letras_descoberta))\n",
    "        print('\\nChances restantes:',chances)\n",
    "        print('Letras erradas:', ' '.join(letras_erradas))\n",
    "        \n",
    "        #tentativas\n",
    "        tentativa = input('\\nDigite uma letra: ').lower()\n",
    "    \n",
    "        #condicional\n",
    "        if tentativa in palavra:\n",
    "            index = 0\n",
    "            for letra in palavra:\n",
    "                if tentativa == letra:\n",
    "                    letras_descoberta[index] = letra\n",
    "                index += 1\n",
    "        else:\n",
    "            chances -= 1\n",
    "            letras_erradas.append(tentativa)\n",
    "            \n",
    "        #condicional\n",
    "        if '_' not in letras_descoberta:\n",
    "            print('\\nVocê venceu, a palavra era:', palavra)\n",
    "            break\n",
    "    \n",
    "    #condicional\n",
    "    if '_' in letras_descoberta:\n",
    "        print('\\nVocê perdeu, a palavra era:', palavra)\n",
    "        \n",
    "#bloco main\n",
    "if __name__ == '__main__':\n",
    "    game()\n",
    "    print('\\nParabéns. Você está aprendendo programação em Python com a DSA. :)\\n')"
   ]
  },
  {
   "cell_type": "code",
   "execution_count": null,
   "metadata": {},
   "outputs": [],
   "source": []
  }
 ],
 "metadata": {
  "kernelspec": {
   "display_name": "base",
   "language": "python",
   "name": "python3"
  },
  "language_info": {
   "codemirror_mode": {
    "name": "ipython",
    "version": 3
   },
   "file_extension": ".py",
   "mimetype": "text/x-python",
   "name": "python",
   "nbconvert_exporter": "python",
   "pygments_lexer": "ipython3",
   "version": "3.11.7"
  }
 },
 "nbformat": 4,
 "nbformat_minor": 2
}
