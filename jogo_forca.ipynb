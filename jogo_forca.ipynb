{
 "cells": [
  {
   "cell_type": "code",
   "execution_count": 2,
   "metadata": {},
   "outputs": [],
   "source": [
    "#import\n",
    "import random\n",
    "from os import system, name"
   ]
  },
  {
   "cell_type": "code",
   "execution_count": null,
   "metadata": {},
   "outputs": [],
   "source": [
    "#Função para limpar a tela a cada execução\n",
    "def limpar_tela():\n",
    "    if name == 'nt':\n",
    "        _= system('cls')\n",
    "    else:\n",
    "        _= system('clear')\n",
    "\n",
    "#Função\n",
    "def game():\n",
    "    limpar_tela()\n",
    "    print('\\nBem-vindo(a) ao jogo da forca!')\n",
    "    print('Adivinhe a palavra abaixo:\\n')\n",
    "    \n",
    "    #lista de palavras para o jogo\n",
    "    palavras = ['banana', 'abacate', 'uva', 'morango', 'laranja']\n",
    "    \n",
    "    #escolhe randomicamente uma palavra\n",
    "    palavra = random.choice(palavras)\n",
    "    \n",
    "    #list comprehension\n",
    "    letras_descoberta = ['_' for letra in palavra]\n",
    "    \n",
    "    #número de chances\n",
    "    chances = 6\n",
    "    \n",
    "    #lista para as letras erradas\n",
    "    letras_erradas = []"
   ]
  }
 ],
 "metadata": {
  "kernelspec": {
   "display_name": "base",
   "language": "python",
   "name": "python3"
  },
  "language_info": {
   "codemirror_mode": {
    "name": "ipython",
    "version": 3
   },
   "file_extension": ".py",
   "mimetype": "text/x-python",
   "name": "python",
   "nbconvert_exporter": "python",
   "pygments_lexer": "ipython3",
   "version": "3.11.7"
  }
 },
 "nbformat": 4,
 "nbformat_minor": 2
}
